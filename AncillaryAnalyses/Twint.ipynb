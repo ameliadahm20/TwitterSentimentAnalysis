{
 "cells": [
  {
   "cell_type": "code",
   "execution_count": 2,
   "metadata": {},
   "outputs": [],
   "source": [
    "import pandas as pd"
   ]
  },
  {
   "cell_type": "code",
   "execution_count": 3,
   "metadata": {},
   "outputs": [],
   "source": [
    "ipad = pd.read_csv('data/ipad.csv')"
   ]
  },
  {
   "cell_type": "code",
   "execution_count": 11,
   "metadata": {},
   "outputs": [
    {
     "data": {
      "text/plain": [
       "(1000, 36)"
      ]
     },
     "execution_count": 11,
     "metadata": {},
     "output_type": "execute_result"
    }
   ],
   "source": [
    "ipad.shape"
   ]
  },
  {
   "cell_type": "code",
   "execution_count": 5,
   "metadata": {},
   "outputs": [
    {
     "data": {
      "text/plain": [
       "Index(['id', 'conversation_id', 'created_at', 'date', 'time', 'timezone',\n",
       "       'user_id', 'username', 'name', 'place', 'tweet', 'language', 'mentions',\n",
       "       'urls', 'photos', 'replies_count', 'retweets_count', 'likes_count',\n",
       "       'hashtags', 'cashtags', 'link', 'retweet', 'quote_url', 'video',\n",
       "       'thumbnail', 'near', 'geo', 'source', 'user_rt_id', 'user_rt',\n",
       "       'retweet_id', 'reply_to', 'retweet_date', 'translate', 'trans_src',\n",
       "       'trans_dest'],\n",
       "      dtype='object')"
      ]
     },
     "execution_count": 5,
     "metadata": {},
     "output_type": "execute_result"
    }
   ],
   "source": [
    "ipad.columns"
   ]
  },
  {
   "cell_type": "code",
   "execution_count": 9,
   "metadata": {},
   "outputs": [
    {
     "name": "stdout",
     "output_type": "stream",
     "text": [
      "@richarddechavez guess what! on faceobok they're giving out new ipad 2's for the holidays! take a look extrachristmas .com\n",
      "@christine_pe wow on faceobok they're sending out sponsored ipad 2's for christmas! go here extrachristmas .com\n",
      "@DayApollo wow on facbeook they're sending out free ipad 2's for xmas! just look extrachristmas .com\n",
      "@juandavidgav wow on fcaebook they are sending out free ipad 2's for the holidays! go here extrachristmas .com\n",
      "@tonyacarol wow on faecbook they're sending out new ipad 2's for christmas! go here extrachristmas .com\n",
      "Download Ipad Audio Textbooks – Crucial Reminders  http://t.co/2qTtDPLA\n",
      "@MrGabo hey on facbeook they are sending out sponsored ipad 2's for christmas! go here extrachristmas .com\n",
      "@Emj_1983 hey on faceobok they are giving away brand new ipad 2's for the holidays! go here extrachristmas .com\n",
      "@wittywitt23 guess what! on fcaebook they're sending out new ipad 2's for the holidays! just look extrachristmas .com\n",
      "@johnnbart hey on faecbook they are giving away sponsored ipad 2's for christmas! go here extrachristmas .com\n",
      "@fumipu_0206 wow on facbeook they're sending out free ipad 2's for xmas! take a look extrachristmas .com\n",
      "@Lizzy_Tizzy wow on fcaebook they're giving out sponsored ipad 2's for the holidays! go here extrachristmas .com\n",
      "@betthh1312 hey on faceobok they are giving away sponsored ipad 2's for christmas! look here extrachristmas .com\n",
      "@chief_chaguito guess what! on facbeook they're giving out free ipad 2's for xmas! take a look extrachristmas .com\n",
      "@WTFMelisah hey on fcaebook they are giving away sponsored ipad 2's for xmas! look here extrachristmas .com\n",
      "iPadの最大の欠点は、何かをする時に、大き過ぎてすごく大げさな感じになることだ。ヒトがたくさんの場所では意外に恥ずかしい。(自意識過剰なのか？)\n",
      "@saylittlelies wow on faceobok they are sending out sponsored ipad 2's for christmas! go here extrachristmas .com\n",
      "@shizzlefredzy guess what! on faceobok they are giving away sponsored ipad 2's for xmas! just look extrachristmas .com\n",
      "@JarrodSkervin guess what! on facbeook they are giving away new ipad 2's for christmas! look here extrachristmas .com\n",
      "@ScheuFamilyY wow on fcaebook they're giving out free ipad 2's for the holidays! just look extrachristmas .com\n"
     ]
    }
   ],
   "source": [
    "for i in range(20):\n",
    "    print(ipad.tweet[i])"
   ]
  },
  {
   "cell_type": "code",
   "execution_count": null,
   "metadata": {},
   "outputs": [],
   "source": []
  }
 ],
 "metadata": {
  "kernelspec": {
   "display_name": "Python 3",
   "language": "python",
   "name": "python3"
  },
  "language_info": {
   "codemirror_mode": {
    "name": "ipython",
    "version": 3
   },
   "file_extension": ".py",
   "mimetype": "text/x-python",
   "name": "python",
   "nbconvert_exporter": "python",
   "pygments_lexer": "ipython3",
   "version": "3.6.9"
  }
 },
 "nbformat": 4,
 "nbformat_minor": 4
}
