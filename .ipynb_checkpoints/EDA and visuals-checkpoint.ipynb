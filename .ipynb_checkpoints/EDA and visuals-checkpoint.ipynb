{
 "cells": [
  {
   "cell_type": "markdown",
   "metadata": {},
   "source": [
    "## EDA and visuals\n",
    "#### Use 'data/lemmatized_and_sentiment_tweets.csv'\n"
   ]
  },
  {
   "cell_type": "code",
   "execution_count": 54,
   "metadata": {},
   "outputs": [],
   "source": [
    "# import packages\n",
    "import pandas as pd\n",
    "import numpy as np\n",
    "import matplotlib.pyplot as plt\n",
    "import seaborn as sns\n",
    "import scipy.stats as sp\n",
    "%matplotlib inline"
   ]
  },
  {
   "cell_type": "code",
   "execution_count": 9,
   "metadata": {},
   "outputs": [],
   "source": [
    "df = pd.read_csv('data/lemmatized_and_sentiment_tweets.csv')"
   ]
  },
  {
   "cell_type": "code",
   "execution_count": 10,
   "metadata": {},
   "outputs": [
    {
     "data": {
      "text/html": [
       "<div>\n",
       "<style scoped>\n",
       "    .dataframe tbody tr th:only-of-type {\n",
       "        vertical-align: middle;\n",
       "    }\n",
       "\n",
       "    .dataframe tbody tr th {\n",
       "        vertical-align: top;\n",
       "    }\n",
       "\n",
       "    .dataframe thead th {\n",
       "        text-align: right;\n",
       "    }\n",
       "</style>\n",
       "<table border=\"1\" class=\"dataframe\">\n",
       "  <thead>\n",
       "    <tr style=\"text-align: right;\">\n",
       "      <th></th>\n",
       "      <th>Unnamed: 0</th>\n",
       "      <th>tweet</th>\n",
       "      <th>product_</th>\n",
       "      <th>emotion</th>\n",
       "      <th>lemmatizer_tweets</th>\n",
       "      <th>textblob_polarity</th>\n",
       "      <th>textblob_subjectivity</th>\n",
       "      <th>vs_neg</th>\n",
       "      <th>vs_neu</th>\n",
       "      <th>vs_pos</th>\n",
       "      <th>vs_compound</th>\n",
       "    </tr>\n",
       "  </thead>\n",
       "  <tbody>\n",
       "    <tr>\n",
       "      <th>0</th>\n",
       "      <td>0</td>\n",
       "      <td>['wesley83', 'have', '3G', 'iPhone', '3', 'hrs...</td>\n",
       "      <td>iPhone</td>\n",
       "      <td>0</td>\n",
       "      <td>wesley83 have 3G iPhone 3 hr tweeting RISE Aus...</td>\n",
       "      <td>-0.200000</td>\n",
       "      <td>0.400000</td>\n",
       "      <td>0.223</td>\n",
       "      <td>0.777</td>\n",
       "      <td>0.000</td>\n",
       "      <td>-0.6486</td>\n",
       "    </tr>\n",
       "    <tr>\n",
       "      <th>1</th>\n",
       "      <td>1</td>\n",
       "      <td>['jessedee', 'Know', 'fludapp', 'Awesome', 'iP...</td>\n",
       "      <td>iPad or iPhone App</td>\n",
       "      <td>1</td>\n",
       "      <td>jessedee Know fludapp Awesome iPad iPhone app ...</td>\n",
       "      <td>0.466667</td>\n",
       "      <td>0.933333</td>\n",
       "      <td>0.000</td>\n",
       "      <td>0.528</td>\n",
       "      <td>0.472</td>\n",
       "      <td>0.9100</td>\n",
       "    </tr>\n",
       "    <tr>\n",
       "      <th>2</th>\n",
       "      <td>2</td>\n",
       "      <td>['swonderlin', 'not', 'wait', 'iPad', '2', 'al...</td>\n",
       "      <td>iPad</td>\n",
       "      <td>1</td>\n",
       "      <td>swonderlin not wait iPad 2 also should sale do...</td>\n",
       "      <td>-0.155556</td>\n",
       "      <td>0.288889</td>\n",
       "      <td>0.000</td>\n",
       "      <td>1.000</td>\n",
       "      <td>0.000</td>\n",
       "      <td>0.0000</td>\n",
       "    </tr>\n",
       "    <tr>\n",
       "      <th>3</th>\n",
       "      <td>3</td>\n",
       "      <td>['sxsw', 'hope', 'year', 'festival', 't', 'cra...</td>\n",
       "      <td>iPad or iPhone App</td>\n",
       "      <td>0</td>\n",
       "      <td>sxsw hope year festival t crashy this year iPh...</td>\n",
       "      <td>0.000000</td>\n",
       "      <td>0.000000</td>\n",
       "      <td>0.000</td>\n",
       "      <td>0.596</td>\n",
       "      <td>0.404</td>\n",
       "      <td>0.7269</td>\n",
       "    </tr>\n",
       "    <tr>\n",
       "      <th>4</th>\n",
       "      <td>4</td>\n",
       "      <td>['sxtxstate', 'great', 'stuff', 'Fri', 'SXSW',...</td>\n",
       "      <td>Google</td>\n",
       "      <td>1</td>\n",
       "      <td>sxtxstate great stuff Fri SXSW Marissa Mayer G...</td>\n",
       "      <td>0.800000</td>\n",
       "      <td>0.750000</td>\n",
       "      <td>0.000</td>\n",
       "      <td>0.796</td>\n",
       "      <td>0.204</td>\n",
       "      <td>0.6249</td>\n",
       "    </tr>\n",
       "  </tbody>\n",
       "</table>\n",
       "</div>"
      ],
      "text/plain": [
       "   Unnamed: 0                                              tweet  \\\n",
       "0           0  ['wesley83', 'have', '3G', 'iPhone', '3', 'hrs...   \n",
       "1           1  ['jessedee', 'Know', 'fludapp', 'Awesome', 'iP...   \n",
       "2           2  ['swonderlin', 'not', 'wait', 'iPad', '2', 'al...   \n",
       "3           3  ['sxsw', 'hope', 'year', 'festival', 't', 'cra...   \n",
       "4           4  ['sxtxstate', 'great', 'stuff', 'Fri', 'SXSW',...   \n",
       "\n",
       "             product_  emotion  \\\n",
       "0              iPhone        0   \n",
       "1  iPad or iPhone App        1   \n",
       "2                iPad        1   \n",
       "3  iPad or iPhone App        0   \n",
       "4              Google        1   \n",
       "\n",
       "                                   lemmatizer_tweets  textblob_polarity  \\\n",
       "0  wesley83 have 3G iPhone 3 hr tweeting RISE Aus...          -0.200000   \n",
       "1  jessedee Know fludapp Awesome iPad iPhone app ...           0.466667   \n",
       "2  swonderlin not wait iPad 2 also should sale do...          -0.155556   \n",
       "3  sxsw hope year festival t crashy this year iPh...           0.000000   \n",
       "4  sxtxstate great stuff Fri SXSW Marissa Mayer G...           0.800000   \n",
       "\n",
       "   textblob_subjectivity  vs_neg  vs_neu  vs_pos  vs_compound  \n",
       "0               0.400000   0.223   0.777   0.000      -0.6486  \n",
       "1               0.933333   0.000   0.528   0.472       0.9100  \n",
       "2               0.288889   0.000   1.000   0.000       0.0000  \n",
       "3               0.000000   0.000   0.596   0.404       0.7269  \n",
       "4               0.750000   0.000   0.796   0.204       0.6249  "
      ]
     },
     "execution_count": 10,
     "metadata": {},
     "output_type": "execute_result"
    }
   ],
   "source": [
    "df.head()"
   ]
  },
  {
   "cell_type": "code",
   "execution_count": 14,
   "metadata": {},
   "outputs": [],
   "source": [
    "df.drop(labels='Unnamed: 0', axis=1, inplace=True)"
   ]
  },
  {
   "cell_type": "markdown",
   "metadata": {},
   "source": [
    "#### Chart of number of tweets by product"
   ]
  },
  {
   "cell_type": "code",
   "execution_count": 55,
   "metadata": {},
   "outputs": [
    {
     "data": {
      "image/png": "[encoded data removed]",
      "text/plain": [
       "<Figure size 720x360 with 1 Axes>"
      ]
     },
     "metadata": {
      "needs_background": "light"
     },
     "output_type": "display_data"
    }
   ],
   "source": [
    "plt.figure(figsize=(10,5))\n",
    "chart = sns.countplot(x='product_', data=df)\n",
    "chart.set_xticklabels(labels=['iPhone','iPad or iPhone app','iPad','Google','Unknown',\n",
    " 'Android','Apple','Android App','Other Google product or service','Other Apple product or service'], rotation=45);\n",
    "chart.set_xlabel('Product');\n",
    "chart.set_ylabel('Number of Tweets');\n",
    "chart.set_title('Number of tweets per product');"
   ]
  },
  {
   "cell_type": "markdown",
   "metadata": {},
   "source": [
    "#### The scale and the multitude of categories for apple products distorts the scale.  Combining the categories below"
   ]
  },
  {
   "cell_type": "code",
   "execution_count": null,
   "metadata": {},
   "outputs": [],
   "source": [
    "['iPhone','iPad or iPhone app','iPad','Google','Unknown','Android','Apple','Android App','Other Google product or service','Other Apple product or service']"
   ]
  },
  {
   "cell_type": "code",
   "execution_count": 37,
   "metadata": {},
   "outputs": [],
   "source": [
    "cond_list = [df['product_'] == 'Google',\n",
    "             df['product_'] == 'Other Google product or service',\n",
    "            df['product_'] == 'Unknown',\n",
    "            df['product_'] == 'Android',\n",
    "            df['product_'] == 'Android App']\n",
    "choice_list = ['Google','Google','Unknown','Android','Android']\n",
    "\n",
    "\n",
    "df['product_agg'] = np.select(cond_list,choice_list, 'Apple')\n"
   ]
  },
  {
   "cell_type": "code",
   "execution_count": 38,
   "metadata": {},
   "outputs": [
    {
     "data": {
      "text/plain": [
       "Unknown                            5801\n",
       "iPad                                946\n",
       "Apple                               661\n",
       "iPad or iPhone App                  470\n",
       "Google                              430\n",
       "iPhone                              297\n",
       "Other Google product or service     293\n",
       "Android App                          81\n",
       "Android                              78\n",
       "Other Apple product or service       35\n",
       "Name: product_, dtype: int64"
      ]
     },
     "execution_count": 38,
     "metadata": {},
     "output_type": "execute_result"
    }
   ],
   "source": [
    "df['product_'].value_counts()"
   ]
  },
  {
   "cell_type": "code",
   "execution_count": 39,
   "metadata": {},
   "outputs": [
    {
     "data": {
      "text/plain": [
       "Unknown    5801\n",
       "Apple      2409\n",
       "Google      723\n",
       "Android     159\n",
       "Name: product_agg, dtype: int64"
      ]
     },
     "execution_count": 39,
     "metadata": {},
     "output_type": "execute_result"
    }
   ],
   "source": [
    "df['product_agg'].value_counts()"
   ]
  },
  {
   "cell_type": "code",
   "execution_count": 52,
   "metadata": {},
   "outputs": [
    {
     "data": {
      "image/png": "[encoded data removed]",
      "text/plain": [
       "<Figure size 720x360 with 1 Axes>"
      ]
     },
     "metadata": {
      "needs_background": "light"
     },
     "output_type": "display_data"
    }
   ],
   "source": [
    "plt.figure(figsize=(10,5))\n",
    "chart = sns.countplot(x='product_agg', data=df, )\n",
    "chart.set_xticklabels(labels=['Apple','Google','Unknown','Android'], rotation=45);\n",
    "chart.set_xlabel('Product');\n",
    "chart.set_ylabel('Number of Tweets');\n",
    "chart.set_title('Number of tweets per product');"
   ]
  },
  {
   "cell_type": "markdown",
   "metadata": {},
   "source": [
    "#### Unknown category still the majority"
   ]
  },
  {
   "cell_type": "markdown",
   "metadata": {},
   "source": [
    "#### Calculating mean and median sentiment scores by aggregated product categories below."
   ]
  },
  {
   "cell_type": "code",
   "execution_count": 53,
   "metadata": {},
   "outputs": [
    {
     "data": {
      "text/html": [
       "<div>\n",
       "<style scoped>\n",
       "    .dataframe tbody tr th:only-of-type {\n",
       "        vertical-align: middle;\n",
       "    }\n",
       "\n",
       "    .dataframe tbody tr th {\n",
       "        vertical-align: top;\n",
       "    }\n",
       "\n",
       "    .dataframe thead th {\n",
       "        text-align: right;\n",
       "    }\n",
       "</style>\n",
       "<table border=\"1\" class=\"dataframe\">\n",
       "  <thead>\n",
       "    <tr style=\"text-align: right;\">\n",
       "      <th></th>\n",
       "      <th>tweet</th>\n",
       "      <th>product_</th>\n",
       "      <th>emotion</th>\n",
       "      <th>lemmatizer_tweets</th>\n",
       "      <th>textblob_polarity</th>\n",
       "      <th>textblob_subjectivity</th>\n",
       "      <th>vs_neg</th>\n",
       "      <th>vs_neu</th>\n",
       "      <th>vs_pos</th>\n",
       "      <th>vs_compound</th>\n",
       "      <th>product_agg</th>\n",
       "    </tr>\n",
       "  </thead>\n",
       "  <tbody>\n",
       "    <tr>\n",
       "      <th>0</th>\n",
       "      <td>['wesley83', 'have', '3G', 'iPhone', '3', 'hrs...</td>\n",
       "      <td>iPhone</td>\n",
       "      <td>0</td>\n",
       "      <td>wesley83 have 3G iPhone 3 hr tweeting RISE Aus...</td>\n",
       "      <td>-0.200000</td>\n",
       "      <td>0.400000</td>\n",
       "      <td>0.223</td>\n",
       "      <td>0.777</td>\n",
       "      <td>0.000</td>\n",
       "      <td>-0.6486</td>\n",
       "      <td>Apple</td>\n",
       "    </tr>\n",
       "    <tr>\n",
       "      <th>1</th>\n",
       "      <td>['jessedee', 'Know', 'fludapp', 'Awesome', 'iP...</td>\n",
       "      <td>iPad or iPhone App</td>\n",
       "      <td>1</td>\n",
       "      <td>jessedee Know fludapp Awesome iPad iPhone app ...</td>\n",
       "      <td>0.466667</td>\n",
       "      <td>0.933333</td>\n",
       "      <td>0.000</td>\n",
       "      <td>0.528</td>\n",
       "      <td>0.472</td>\n",
       "      <td>0.9100</td>\n",
       "      <td>Apple</td>\n",
       "    </tr>\n",
       "    <tr>\n",
       "      <th>2</th>\n",
       "      <td>['swonderlin', 'not', 'wait', 'iPad', '2', 'al...</td>\n",
       "      <td>iPad</td>\n",
       "      <td>1</td>\n",
       "      <td>swonderlin not wait iPad 2 also should sale do...</td>\n",
       "      <td>-0.155556</td>\n",
       "      <td>0.288889</td>\n",
       "      <td>0.000</td>\n",
       "      <td>1.000</td>\n",
       "      <td>0.000</td>\n",
       "      <td>0.0000</td>\n",
       "      <td>Apple</td>\n",
       "    </tr>\n",
       "    <tr>\n",
       "      <th>3</th>\n",
       "      <td>['sxsw', 'hope', 'year', 'festival', 't', 'cra...</td>\n",
       "      <td>iPad or iPhone App</td>\n",
       "      <td>0</td>\n",
       "      <td>sxsw hope year festival t crashy this year iPh...</td>\n",
       "      <td>0.000000</td>\n",
       "      <td>0.000000</td>\n",
       "      <td>0.000</td>\n",
       "      <td>0.596</td>\n",
       "      <td>0.404</td>\n",
       "      <td>0.7269</td>\n",
       "      <td>Apple</td>\n",
       "    </tr>\n",
       "    <tr>\n",
       "      <th>4</th>\n",
       "      <td>['sxtxstate', 'great', 'stuff', 'Fri', 'SXSW',...</td>\n",
       "      <td>Google</td>\n",
       "      <td>1</td>\n",
       "      <td>sxtxstate great stuff Fri SXSW Marissa Mayer G...</td>\n",
       "      <td>0.800000</td>\n",
       "      <td>0.750000</td>\n",
       "      <td>0.000</td>\n",
       "      <td>0.796</td>\n",
       "      <td>0.204</td>\n",
       "      <td>0.6249</td>\n",
       "      <td>Google</td>\n",
       "    </tr>\n",
       "  </tbody>\n",
       "</table>\n",
       "</div>"
      ],
      "text/plain": [
       "                                               tweet            product_  \\\n",
       "0  ['wesley83', 'have', '3G', 'iPhone', '3', 'hrs...              iPhone   \n",
       "1  ['jessedee', 'Know', 'fludapp', 'Awesome', 'iP...  iPad or iPhone App   \n",
       "2  ['swonderlin', 'not', 'wait', 'iPad', '2', 'al...                iPad   \n",
       "3  ['sxsw', 'hope', 'year', 'festival', 't', 'cra...  iPad or iPhone App   \n",
       "4  ['sxtxstate', 'great', 'stuff', 'Fri', 'SXSW',...              Google   \n",
       "\n",
       "   emotion                                  lemmatizer_tweets  \\\n",
       "0        0  wesley83 have 3G iPhone 3 hr tweeting RISE Aus...   \n",
       "1        1  jessedee Know fludapp Awesome iPad iPhone app ...   \n",
       "2        1  swonderlin not wait iPad 2 also should sale do...   \n",
       "3        0  sxsw hope year festival t crashy this year iPh...   \n",
       "4        1  sxtxstate great stuff Fri SXSW Marissa Mayer G...   \n",
       "\n",
       "   textblob_polarity  textblob_subjectivity  vs_neg  vs_neu  vs_pos  \\\n",
       "0          -0.200000               0.400000   0.223   0.777   0.000   \n",
       "1           0.466667               0.933333   0.000   0.528   0.472   \n",
       "2          -0.155556               0.288889   0.000   1.000   0.000   \n",
       "3           0.000000               0.000000   0.000   0.596   0.404   \n",
       "4           0.800000               0.750000   0.000   0.796   0.204   \n",
       "\n",
       "   vs_compound product_agg  \n",
       "0      -0.6486       Apple  \n",
       "1       0.9100       Apple  \n",
       "2       0.0000       Apple  \n",
       "3       0.7269       Apple  \n",
       "4       0.6249      Google  "
      ]
     },
     "execution_count": 53,
     "metadata": {},
     "output_type": "execute_result"
    }
   ],
   "source": [
    "df.head()"
   ]
  },
  {
   "cell_type": "code",
   "execution_count": 71,
   "metadata": {},
   "outputs": [],
   "source": [
    "def bivar_analyzer(sent_met):\n",
    "    apple = df.loc[df['product_agg'] == 'Apple', sent_met]\n",
    "    google = df.loc[df['product_agg'] == 'Google', sent_met]\n",
    "    android = df.loc[df['product_agg'] == 'Android', sent_met]\n",
    "    unknown = df.loc[df['product_agg'] == 'Unknown', sent_met]\n",
    "    \n",
    "    a = df.groupby(['product_agg'])[sent_met].mean()\n",
    "    print(f'Mean {sent_met} by product')\n",
    "    print(a)\n",
    "    print(sp.f_oneway(apple, google, android, unknown))\n",
    "    print(f'Median {sent_met} by product')\n",
    "    print(df.groupby(['product_agg'])[sent_met].median())\n",
    "    print(sp.kruskal(apple, google, android, unknown))\n",
    "    \n",
    "    plt.figure(figsize=(10,5))\n",
    "    chart = sns.barplot(x=a.index,y=a, data=df, )\n",
    "    chart.set_xticklabels(labels=a.index, rotation=45);\n",
    "    chart.set_xlabel('Product');\n",
    "    chart.set_ylabel(f'Mean {sent_met}');\n",
    "    chart.set_title(f'Mean {sent_met} by product');"
   ]
  },
  {
   "cell_type": "markdown",
   "metadata": {},
   "source": [
    "#### polarity ranges from -1 to 1.  Positive values are positive sentiment"
   ]
  },
  {
   "cell_type": "code",
   "execution_count": 72,
   "metadata": {},
   "outputs": [
    {
     "name": "stdout",
     "output_type": "stream",
     "text": [
      "Mean textblob_polarity by product\n",
      "product_agg\n",
      "Android    0.240113\n",
      "Apple      0.183993\n",
      "Google     0.187189\n",
      "Unknown    0.103194\n",
      "Name: textblob_polarity, dtype: float64\n",
      "F_onewayResult(statistic=72.66119770092284, pvalue=1.9599549661549273e-46)\n",
      "Median textblob_polarity by product\n",
      "product_agg\n",
      "Android    0.200000\n",
      "Apple      0.125000\n",
      "Google     0.136364\n",
      "Unknown    0.000000\n",
      "Name: textblob_polarity, dtype: float64\n",
      "KruskalResult(statistic=258.86652105012877, pvalue=7.906699745660572e-56)\n"
     ]
    },
    {
     "data": {
      "image/png": "[encoded data removed]",
      "text/plain": [
       "<Figure size 720x360 with 1 Axes>"
      ]
     },
     "metadata": {
      "needs_background": "light"
     },
     "output_type": "display_data"
    }
   ],
   "source": [
    "bivar_analyzer('textblob_polarity')"
   ]
  },
  {
   "cell_type": "markdown",
   "metadata": {},
   "source": [
    "#### Subjectivity rates whether the message expresses a personal opinion (1) or factual information (0).  "
   ]
  },
  {
   "cell_type": "code",
   "execution_count": 80,
   "metadata": {},
   "outputs": [
    {
     "name": "stdout",
     "output_type": "stream",
     "text": [
      "Mean textblob_subjectivity by product\n",
      "product_agg\n",
      "Android    0.434576\n",
      "Apple      0.403356\n",
      "Google     0.400306\n",
      "Unknown    0.292621\n",
      "Name: textblob_subjectivity, dtype: float64\n",
      "F_onewayResult(statistic=92.22118718008055, pvalue=8.661170289683443e-59)\n",
      "Median textblob_subjectivity by product\n",
      "product_agg\n",
      "Android    0.475000\n",
      "Apple      0.450000\n",
      "Google     0.408333\n",
      "Unknown    0.260606\n",
      "Name: textblob_subjectivity, dtype: float64\n",
      "KruskalResult(statistic=278.0070410776856, pvalue=5.715574003960698e-60)\n"
     ]
    },
    {
     "data": {
      "image/png": "[encoded data removed]",
      "text/plain": [
       "<Figure size 720x360 with 1 Axes>"
      ]
     },
     "metadata": {
      "needs_background": "light"
     },
     "output_type": "display_data"
    }
   ],
   "source": [
    "bivar_analyzer('textblob_subjectivity')"
   ]
  },
  {
   "cell_type": "code",
   "execution_count": 79,
   "metadata": {},
   "outputs": [
    {
     "name": "stdout",
     "output_type": "stream",
     "text": [
      "Mean vs_neg by product\n",
      "product_agg\n",
      "Android    0.025572\n",
      "Apple      0.042899\n",
      "Google     0.031533\n",
      "Unknown    0.030386\n",
      "Name: vs_neg, dtype: float64\n",
      "F_onewayResult(statistic=15.167096905650649, pvalue=7.644024880781393e-10)\n",
      "Median vs_neg by product\n",
      "product_agg\n",
      "Android    0.0\n",
      "Apple      0.0\n",
      "Google     0.0\n",
      "Unknown    0.0\n",
      "Name: vs_neg, dtype: float64\n",
      "KruskalResult(statistic=52.39334429331721, pvalue=2.4692885033332857e-11)\n"
     ]
    },
    {
     "data": {
      "image/png": "[encoded data removed]",
      "text/plain": [
       "<Figure size 720x360 with 1 Axes>"
      ]
     },
     "metadata": {
      "needs_background": "light"
     },
     "output_type": "display_data"
    }
   ],
   "source": [
    "bivar_analyzer('vs_neg')"
   ]
  },
  {
   "cell_type": "code",
   "execution_count": 78,
   "metadata": {},
   "outputs": [
    {
     "name": "stdout",
     "output_type": "stream",
     "text": [
      "Mean vs_neu by product\n",
      "product_agg\n",
      "Android    0.755711\n",
      "Apple      0.796999\n",
      "Google     0.792346\n",
      "Unknown    0.868360\n",
      "Name: vs_neu, dtype: float64\n",
      "F_onewayResult(statistic=167.25803152036718, pvalue=1.5282622371613551e-105)\n",
      "Median vs_neu by product\n",
      "product_agg\n",
      "Android    0.778\n",
      "Apple      0.795\n",
      "Google     0.796\n",
      "Unknown    0.890\n",
      "Name: vs_neu, dtype: float64\n",
      "KruskalResult(statistic=476.93925175452216, pvalue=4.74282078425606e-103)\n"
     ]
    },
    {
     "data": {
      "image/png": "[encoded data removed]",
      "text/plain": [
       "<Figure size 720x360 with 1 Axes>"
      ]
     },
     "metadata": {
      "needs_background": "light"
     },
     "output_type": "display_data"
    }
   ],
   "source": [
    "bivar_analyzer('vs_neu')"
   ]
  },
  {
   "cell_type": "code",
   "execution_count": 76,
   "metadata": {},
   "outputs": [
    {
     "name": "stdout",
     "output_type": "stream",
     "text": [
      "Mean vs_pos by product\n",
      "product_agg\n",
      "Android    0.218717\n",
      "Apple      0.160098\n",
      "Google     0.176119\n",
      "Unknown    0.101251\n",
      "Name: vs_pos, dtype: float64\n",
      "F_onewayResult(statistic=155.76177500552683, pvalue=1.9039433405980362e-98)\n",
      "Median vs_pos by product\n",
      "product_agg\n",
      "Android    0.203\n",
      "Apple      0.156\n",
      "Google     0.167\n",
      "Unknown    0.000\n",
      "Name: vs_pos, dtype: float64\n",
      "KruskalResult(statistic=440.44618466655436, pvalue=3.829970213407436e-95)\n"
     ]
    },
    {
     "data": {
      "image/png": "[encoded data removed]",
      "text/plain": [
       "<Figure size 720x360 with 1 Axes>"
      ]
     },
     "metadata": {
      "needs_background": "light"
     },
     "output_type": "display_data"
    }
   ],
   "source": [
    "bivar_analyzer('vs_pos')"
   ]
  },
  {
   "cell_type": "code",
   "execution_count": 75,
   "metadata": {},
   "outputs": [
    {
     "name": "stdout",
     "output_type": "stream",
     "text": [
      "Mean vs_compound by product\n",
      "product_agg\n",
      "Android    0.375961\n",
      "Apple      0.259765\n",
      "Google     0.310995\n",
      "Unknown    0.158427\n",
      "Name: vs_compound, dtype: float64\n",
      "F_onewayResult(statistic=82.77447302183036, pvalue=7.873614179286613e-53)\n",
      "Median vs_compound by product\n",
      "product_agg\n",
      "Android    0.4404\n",
      "Apple      0.3182\n",
      "Google     0.3818\n",
      "Unknown    0.0000\n",
      "Name: vs_compound, dtype: float64\n",
      "KruskalResult(statistic=269.0005657016715, pvalue=5.07798680791687e-58)\n"
     ]
    },
    {
     "data": {
      "image/png": "[encoded data removed]",
      "text/plain": [
       "<Figure size 720x360 with 1 Axes>"
      ]
     },
     "metadata": {
      "needs_background": "light"
     },
     "output_type": "display_data"
    }
   ],
   "source": [
    "bivar_analyzer('vs_compound')"
   ]
  },
  {
   "cell_type": "markdown",
   "metadata": {},
   "source": [
    "#### Getting all the neg, neu and pos for each product on one graph - use sns.barplot with hue - need to reshape to plot mean value by product with the hue set to the appropriate valence. "
   ]
  },
  {
   "cell_type": "code",
   "execution_count": 145,
   "metadata": {},
   "outputs": [],
   "source": [
    "a = df.groupby(['product_agg'])['vs_neg'].mean()\n",
    "b = df.groupby(['product_agg'])['vs_neu'].mean()\n",
    "c = df.groupby(['product_agg'])['vs_pos'].mean()"
   ]
  },
  {
   "cell_type": "code",
   "execution_count": 136,
   "metadata": {},
   "outputs": [],
   "source": [
    "vs_neg = pd.DataFrame(data=a)\n",
    "vs_neg['metric'] = 'VS negative'\n",
    "vs_neg.rename(columns={\"vs_neg\":\"mean_rating\"},inplace=True)\n",
    "vs_neg.reset_index(inplace=True)\n",
    "\n",
    "vs_neu = pd.DataFrame(data=b)\n",
    "vs_neu['metric'] = 'VS neutral'\n",
    "vs_neu.rename(columns={\"vs_neu\":\"mean_rating\"},inplace=True)\n",
    "vs_neu.reset_index(inplace=True)\n",
    "\n",
    "vs_pos = pd.DataFrame(data=c)\n",
    "vs_pos['metric'] = 'VS positive'\n",
    "vs_pos.rename(columns={\"vs_pos\":\"mean_rating\"},inplace=True)\n",
    "vs_pos.reset_index(inplace=True)"
   ]
  },
  {
   "cell_type": "code",
   "execution_count": 142,
   "metadata": {},
   "outputs": [],
   "source": [
    "intermediate = vs_neg.merge(vs_neu, how='outer')"
   ]
  },
  {
   "cell_type": "code",
   "execution_count": 143,
   "metadata": {},
   "outputs": [],
   "source": [
    "stacked = intermediate.merge(vs_pos, how='outer')"
   ]
  },
  {
   "cell_type": "code",
   "execution_count": 149,
   "metadata": {},
   "outputs": [
    {
     "data": {
      "image/png": "[encoded data removed]",
      "text/plain": [
       "<Figure size 720x360 with 1 Axes>"
      ]
     },
     "metadata": {
      "needs_background": "light"
     },
     "output_type": "display_data"
    }
   ],
   "source": [
    "plt.figure(figsize=(10,5))\n",
    "chart = sns.barplot(x=\"product_agg\", y=\"mean_rating\", hue=\"metric\", data=stacked)\n",
    "chart.set_xlabel('Product');\n",
    "chart.set_ylabel('Mean Rating');\n",
    "chart.set_title('Mean rating by product')\n",
    "chart.legend(loc='best');"
   ]
  },
  {
   "cell_type": "markdown",
   "metadata": {},
   "source": [
    "#### Generally speaking android was getting the most positive reviews and apple the most negative reviews.  Since apple had a lot of subcategories will look at those."
   ]
  },
  {
   "cell_type": "code",
   "execution_count": 81,
   "metadata": {},
   "outputs": [],
   "source": [
    "df_apple = df.loc[df['product_agg'] == 'Apple',:]"
   ]
  },
  {
   "cell_type": "code",
   "execution_count": 83,
   "metadata": {},
   "outputs": [
    {
     "data": {
      "text/plain": [
       "Unknown                            5801\n",
       "iPad                                946\n",
       "Apple                               661\n",
       "iPad or iPhone App                  470\n",
       "Google                              430\n",
       "iPhone                              297\n",
       "Other Google product or service     293\n",
       "Android App                          81\n",
       "Android                              78\n",
       "Other Apple product or service       35\n",
       "Name: product_, dtype: int64"
      ]
     },
     "execution_count": 83,
     "metadata": {},
     "output_type": "execute_result"
    }
   ],
   "source": [
    "df['product_'].value_counts()"
   ]
  },
  {
   "cell_type": "code",
   "execution_count": 86,
   "metadata": {},
   "outputs": [
    {
     "name": "stdout",
     "output_type": "stream",
     "text": [
      "Mean VS neg by apple product\n",
      "product_\n",
      "Apple                             0.038233\n",
      "Other Apple product or service    0.043343\n",
      "iPad                              0.042960\n",
      "iPad or iPhone App                0.029857\n",
      "iPhone                            0.073673\n",
      "Name: vs_neg, dtype: float64\n",
      "F_onewayResult(statistic=14.939143039082458, pvalue=1.326413349889096e-09)\n",
      "Median VS neg by apple product\n",
      "product_\n",
      "Apple                             0.0\n",
      "Other Apple product or service    0.0\n",
      "iPad                              0.0\n",
      "iPad or iPhone App                0.0\n",
      "iPhone                            0.0\n",
      "Name: vs_neg, dtype: float64\n",
      "KruskalResult(statistic=41.589478040156365, pvalue=4.903213939772419e-09)\n"
     ]
    },
    {
     "data": {
      "image/png": "[encoded data removed]",
      "text/plain": [
       "<Figure size 720x360 with 1 Axes>"
      ]
     },
     "metadata": {
      "needs_background": "light"
     },
     "output_type": "display_data"
    }
   ],
   "source": [
    "iPad = df_apple.loc[df_apple['product_'] == 'iPad', 'vs_neg']\n",
    "apple_app = df_apple.loc[df_apple['product_'] == 'iPad or iPhone App', 'vs_neg']\n",
    "iPhone = df_apple.loc[df_apple['product_'] == 'iPhone', 'vs_neg']\n",
    "Other_apple = df_apple.loc[df_apple['product_'] == 'Other Apple product or service', 'vs_neg']\n",
    "\n",
    "a = df_apple.groupby(['product_'])['vs_neg'].mean()\n",
    "print('Mean VS neg by apple product')\n",
    "print(a)\n",
    "print(sp.f_oneway(iPad, apple_app, iPhone, Other_apple))\n",
    "print('Median VS neg by apple product')\n",
    "print(df_apple.groupby(['product_'])['vs_neg'].median())\n",
    "print(sp.kruskal(iPad, apple_app, iPhone, Other_apple))\n",
    "\n",
    "plt.figure(figsize=(10,5))\n",
    "chart = sns.barplot(x=a.index,y=a, data=df_apple, )\n",
    "chart.set_xticklabels(labels=a.index, rotation=45);\n",
    "chart.set_xlabel('Product');\n",
    "chart.set_ylabel('Mean VS neg');\n",
    "chart.set_title('Mean VS neg by product');"
   ]
  },
  {
   "cell_type": "code",
   "execution_count": null,
   "metadata": {},
   "outputs": [],
   "source": []
  }
 ],
 "metadata": {
  "kernelspec": {
   "display_name": "Python 3",
   "language": "python",
   "name": "python3"
  },
  "language_info": {
   "codemirror_mode": {
    "name": "ipython",
    "version": 3
   },
   "file_extension": ".py",
   "mimetype": "text/x-python",
   "name": "python",
   "nbconvert_exporter": "python",
   "pygments_lexer": "ipython3",
   "version": "3.6.9"
  }
 },
 "nbformat": 4,
 "nbformat_minor": 4
}
